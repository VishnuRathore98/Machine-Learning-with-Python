{
  "cells": [
    {
      "cell_type": "markdown",
      "metadata": {
        "colab_type": "text",
        "id": "3DR-eO17geWu"
      },
      "source": [
        "# Convolutional Neural Network"
      ]
    },
    {
      "cell_type": "markdown",
      "metadata": {
        "colab_type": "text",
        "id": "EMefrVPCg-60"
      },
      "source": [
        "### Importing the libraries"
      ]
    },
    {
      "cell_type": "code",
      "execution_count": 16,
      "metadata": {},
      "outputs": [],
      "source": [
        "import tensorflow as tf\n",
        "# from tensorflow.keras.preprocessing.image import ImageDataGenerator\n",
        "from keras.src.legacy.preprocessing.image import ImageDataGenerator"
      ]
    },
    {
      "cell_type": "code",
      "execution_count": 9,
      "metadata": {},
      "outputs": [
        {
          "data": {
            "text/plain": [
              "keras.src.legacy.preprocessing.image.ImageDataGenerator"
            ]
          },
          "execution_count": 9,
          "metadata": {},
          "output_type": "execute_result"
        }
      ],
      "source": [
        "tf.__version__\n",
        "ImageDataGenerator"
      ]
    },
    {
      "cell_type": "markdown",
      "metadata": {
        "colab_type": "text",
        "id": "oxQxCBWyoGPE"
      },
      "source": [
        "## Part 1 - Data Preprocessing"
      ]
    },
    {
      "cell_type": "markdown",
      "metadata": {
        "colab_type": "text",
        "id": "MvE-heJNo3GG"
      },
      "source": [
        "### Preprocessing the Training set"
      ]
    },
    {
      "cell_type": "markdown",
      "metadata": {},
      "source": [
        "\n",
        "This code snippet is part of a process to prepare image data for training a machine learning model using Keras. Here's a breakdown of what each line does:\n",
        "\n",
        "## Explanation of Code\n",
        "\n",
        "### 1. **Image Data Augmentation**\n",
        "```python\n",
        "train_datagen = ImageDataGenerator(\n",
        "    rescale=1./255, \n",
        "    shear_range=0.2, \n",
        "    zoom_range=0.2, \n",
        "    horizontal_flip=True\n",
        ")\n",
        "```\n",
        "The ImageDataGenerator class in Keras is used to augment image data in real-time and preprocess it. The parameters specified here configure how the data should be augmented.\n",
        "\n",
        "#### rescale=1./255:\n",
        "\n",
        "Normalizes the pixel values of the images by scaling them down from the range [0, 255] to [0, 1]. This helps the model train more effectively since normalized data often leads to faster convergence.\n",
        "\n",
        "#### shear_range=0.2:\n",
        "\n",
        "Applies random shear transformations to the images. Shearing changes the perspective of an image along a particular axis, making the model more robust to such variations.\n",
        "\n",
        "#### zoom_range=0.2:\n",
        "\n",
        "Randomly zooms into the images by up to 20%. This makes the model more robust to scale variations.\n",
        "\n",
        "#### horizontal_flip=True:\n",
        "\n",
        "Randomly flips images horizontally. This is useful when horizontal orientation is not a distinguishing factor for the class label (e.g., detecting cats or dogs).\n",
        "\n",
        "### 2. **training_set = train_datagen.flow_from_directory(...)**\n",
        "\n",
        "This line generates batches of augmented image data from a directory. Let's break down the parameters:\n",
        "\n",
        "#### '/home/vpsr/Desktop/python/Machine Learning Resources/dataset/dataset/training_set':\n",
        "\n",
        "Specifies the directory containing the training images. Inside this directory, images are expected to be organized in subdirectories, where each subdirectory corresponds to a class.\n",
        "\n",
        "#### target_size=(64, 64):\n",
        "\n",
        "Resizes all images to 64x64 pixels. This ensures uniformity in input dimensions, which is necessary for training the model.\n",
        "\n",
        "#### batch_size=32:\n",
        "\n",
        "Defines the number of images per batch. During training, the model processes images in chunks of 32, rather than one by one, to optimize computational efficiency.\n",
        "\n",
        "#### class_mode='binary':\n",
        "\n",
        "Indicates that the classification task is binary (e.g., distinguishing between two classes like \"cats\" and \"dogs\"). The labels will be either 0 or 1.\n",
        "\n",
        "#### What Happens Here?\n",
        "The ImageDataGenerator applies augmentation and preprocessing to the images in the training set in real-time.\n",
        "The flow_from_directory method reads images from the specified directory, resizes them, applies the defined augmentations, and generates batches of data for training.\n",
        "\n",
        "#### Output\n",
        "This setup returns a Python generator (training_set) that can be used directly with the fit or fit_generator method of a Keras model. The generator ensures efficient memory usage by loading and processing only a batch of images at a time instead of loading the entire dataset into memory.\n",
        "\n",
        "#### Purpose of Data Augmentation\n",
        "The goal of augmentation is to artificially increase the diversity of the training dataset by introducing transformations. This helps prevent overfitting, especially when the dataset is small.\n"
      ]
    },
    {
      "cell_type": "code",
      "execution_count": 14,
      "metadata": {},
      "outputs": [
        {
          "name": "stdout",
          "output_type": "stream",
          "text": [
            "Found 8000 images belonging to 2 classes.\n"
          ]
        }
      ],
      "source": [
        "train_datagen = ImageDataGenerator(rescale=1./255, \n",
        "                                   shear_range=0.2, \n",
        "                                   zoom_range=0.2, \n",
        "                                   horizontal_flip=True)\n",
        "training_set = train_datagen.flow_from_directory('/home/vpsr/Desktop/python/Machine Learning Resources/dataset/dataset/training_set', \n",
        "                                                 target_size=(64,64), \n",
        "                                                 batch_size=32, \n",
        "                                                 class_mode='binary')"
      ]
    },
    {
      "cell_type": "markdown",
      "metadata": {
        "colab_type": "text",
        "id": "mrCMmGw9pHys"
      },
      "source": [
        "### Preprocessing the Test set"
      ]
    },
    {
      "cell_type": "markdown",
      "metadata": {},
      "source": [
        "The `ImageDataGenerator` class is used here to preprocess the test images. The only parameter specified is:\n",
        "\n",
        "#### rescale=1./255:\n",
        "Normalizes pixel values from [0, 255] to [0, 1]. This is crucial for maintaining consistency with the preprocessing applied to the training data.\n",
        "\n",
        "**Note:** Unlike the training data generator, no data augmentation (like shearing or flipping) is applied here. The test set should represent real-world data without modifications, ensuring accurate evaluation."
      ]
    },
    {
      "cell_type": "code",
      "execution_count": 15,
      "metadata": {},
      "outputs": [
        {
          "name": "stdout",
          "output_type": "stream",
          "text": [
            "Found 2000 images belonging to 2 classes.\n"
          ]
        }
      ],
      "source": [
        "test_datagen = ImageDataGenerator(rescale=1./255)\n",
        "test_set = test_datagen.flow_from_directory('/home/vpsr/Desktop/python/Machine Learning Resources/dataset/dataset/test_set', \n",
        "                                            target_size=(64,64), \n",
        "                                            batch_size=32, \n",
        "                                            class_mode='binary')"
      ]
    },
    {
      "cell_type": "markdown",
      "metadata": {
        "colab_type": "text",
        "id": "af8O4l90gk7B"
      },
      "source": [
        "## Part 2 - Building the CNN"
      ]
    },
    {
      "cell_type": "markdown",
      "metadata": {
        "colab_type": "text",
        "id": "ces1gXY2lmoX"
      },
      "source": [
        "### Initialising the CNN"
      ]
    },
    {
      "cell_type": "code",
      "execution_count": 17,
      "metadata": {},
      "outputs": [],
      "source": [
        "cnn = tf.keras.models.Sequential()"
      ]
    },
    {
      "cell_type": "markdown",
      "metadata": {
        "colab_type": "text",
        "id": "u5YJj_XMl5LF"
      },
      "source": [
        "### Step 1 - Convolution"
      ]
    },
    {
      "cell_type": "code",
      "execution_count": 18,
      "metadata": {},
      "outputs": [
        {
          "name": "stderr",
          "output_type": "stream",
          "text": [
            "/home/vpsr/.local/lib/python3.10/site-packages/keras/src/layers/convolutional/base_conv.py:107: UserWarning: Do not pass an `input_shape`/`input_dim` argument to a layer. When using Sequential models, prefer using an `Input(shape)` object as the first layer in the model instead.\n",
            "  super().__init__(activity_regularizer=activity_regularizer, **kwargs)\n",
            "2024-11-21 09:31:08.146358: E external/local_xla/xla/stream_executor/cuda/cuda_driver.cc:152] failed call to cuInit: INTERNAL: CUDA error: Failed call to cuInit: CUDA_ERROR_NO_DEVICE: no CUDA-capable device is detected\n"
          ]
        }
      ],
      "source": [
        "cnn.add(tf.keras.layers.Conv2D(filters=32, kernel_size=3, activation='relu', input_shape=[64,64,3]))"
      ]
    },
    {
      "cell_type": "markdown",
      "metadata": {
        "colab_type": "text",
        "id": "tf87FpvxmNOJ"
      },
      "source": [
        "### Step 2 - Pooling"
      ]
    },
    {
      "cell_type": "code",
      "execution_count": 19,
      "metadata": {},
      "outputs": [],
      "source": [
        "cnn.add(tf.keras.layers.MaxPool2D(pool_size=2, strides=2))"
      ]
    },
    {
      "cell_type": "markdown",
      "metadata": {
        "colab_type": "text",
        "id": "xaTOgD8rm4mU"
      },
      "source": [
        "### Adding a second convolutional layer"
      ]
    },
    {
      "cell_type": "code",
      "execution_count": 20,
      "metadata": {},
      "outputs": [],
      "source": [
        "cnn.add(tf.keras.layers.Conv2D(filters=32, kernel_size=3, activation='relu'))\n",
        "cnn.add(tf.keras.layers.MaxPool2D(pool_size=2, strides=2))"
      ]
    },
    {
      "cell_type": "markdown",
      "metadata": {
        "colab_type": "text",
        "id": "tmiEuvTunKfk"
      },
      "source": [
        "### Step 3 - Flattening"
      ]
    },
    {
      "cell_type": "code",
      "execution_count": 21,
      "metadata": {},
      "outputs": [],
      "source": [
        "cnn.add(tf.keras.layers.Flatten())"
      ]
    },
    {
      "cell_type": "markdown",
      "metadata": {
        "colab_type": "text",
        "id": "dAoSECOm203v"
      },
      "source": [
        "### Step 4 - Full Connection"
      ]
    },
    {
      "cell_type": "code",
      "execution_count": 22,
      "metadata": {},
      "outputs": [],
      "source": [
        "cnn.add(tf.keras.layers.Dense(units=128, activation='relu'))"
      ]
    },
    {
      "cell_type": "markdown",
      "metadata": {
        "colab_type": "text",
        "id": "yTldFvbX28Na"
      },
      "source": [
        "### Step 5 - Output Layer"
      ]
    },
    {
      "cell_type": "code",
      "execution_count": 23,
      "metadata": {},
      "outputs": [],
      "source": [
        "cnn.add(tf.keras.layers.Dense(units=1, activation='sigmoid'))"
      ]
    },
    {
      "cell_type": "markdown",
      "metadata": {
        "colab_type": "text",
        "id": "D6XkI90snSDl"
      },
      "source": [
        "## Part 3 - Training the CNN"
      ]
    },
    {
      "cell_type": "markdown",
      "metadata": {
        "colab_type": "text",
        "id": "vfrFQACEnc6i"
      },
      "source": [
        "### Compiling the CNN"
      ]
    },
    {
      "cell_type": "markdown",
      "metadata": {
        "colab_type": "text",
        "id": "ehS-v3MIpX2h"
      },
      "source": [
        "### Training the CNN on the Training set and evaluating it on the Test set"
      ]
    },
    {
      "cell_type": "markdown",
      "metadata": {
        "colab_type": "text",
        "id": "U3PZasO0006Z"
      },
      "source": [
        "## Part 4 - Making a single prediction"
      ]
    }
  ],
  "metadata": {
    "colab": {
      "collapsed_sections": [],
      "name": "convolutional_neural_network.ipynb",
      "provenance": [],
      "toc_visible": true
    },
    "kernelspec": {
      "display_name": "Python 3",
      "name": "python3"
    },
    "language_info": {
      "codemirror_mode": {
        "name": "ipython",
        "version": 3
      },
      "file_extension": ".py",
      "mimetype": "text/x-python",
      "name": "python",
      "nbconvert_exporter": "python",
      "pygments_lexer": "ipython3",
      "version": "3.10.12"
    }
  },
  "nbformat": 4,
  "nbformat_minor": 0
}
